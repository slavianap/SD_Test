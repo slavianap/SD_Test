{
 "cells": [
  {
   "cell_type": "markdown",
   "metadata": {},
   "source": [
    "# Software Developer Technical Interview Questions\n",
    "\n",
    "\n",
    "* Author: Slaviana Pavlovich\n",
    "* Date: 31/08/2021\n",
    "* Programming Language: Python 3"
   ]
  },
  {
   "cell_type": "code",
   "execution_count": 1,
   "metadata": {},
   "outputs": [
    {
     "name": "stdout",
     "output_type": "stream",
     "text": [
      " user_id       device action  date_actioned\n",
      "       1   Windows 10  start            100\n",
      "       2     OSX 15.4  start            200\n",
      "       1    Iphone 8s  start            250\n",
      "       1   Windows 10   stop            370\n",
      "       1    Iphone 8s   stop            410\n",
      "       2     OSX 15.4   stop            490\n",
      "       3  Android 9.1  start            700\n"
     ]
    }
   ],
   "source": [
    "# Importing the libraries\n",
    "import numpy as np\n",
    "import pandas as pd\n",
    "import unittest\n",
    "\n",
    "# Creating the table that has tracks users’ video playback actions over time \n",
    "records = pd.DataFrame(data=np.matrix.transpose(np.array([[1,2,1,1,1,2,3], \n",
    "                                      ['Windows 10', 'OSX 15.4', 'Iphone 8s', 'Windows 10', 'Iphone 8s', 'OSX 15.4', 'Android 9.1'], \n",
    "                                      ['start','start','start','stop','stop','stop','start'], \n",
    "                                      [100,200,250,370,410,490,700]])),\n",
    "                                      columns=['user_id', 'device', 'action','date_actioned'])    \n",
    "\n",
    "# Converting user_id and date_actioned into integers\n",
    "records[['date_actioned', 'user_id']] = records[['date_actioned', 'user_id']].apply(pd.to_numeric)\n",
    "\n",
    "# Printing the records\n",
    "print(records.to_string(index=False))\n"
   ]
  },
  {
   "cell_type": "markdown",
   "metadata": {},
   "source": [
    "## Task 1\n",
    "\n",
    "Write a function that takes in records (an array of all the database records), an action, and a start_time and end_time time window and returns all user ids that performed that action within that time window. \n",
    "\n",
    "E.g. getUsers(records, “start”, 700, 900) will return the result [3]"
   ]
  },
  {
   "cell_type": "code",
   "execution_count": 2,
   "metadata": {},
   "outputs": [],
   "source": [
    "''' \n",
    "The function that takes in records, action, start time and end time and returns the user(s) ids \n",
    "that performed that action within the time window given.\n",
    "'''\n",
    "\n",
    "def getUsers(df, action, start_time, end_time):\n",
    "    # Identifying the users that match the criteria\n",
    "    users_selected = df.loc[(df['action'].str.match(action)) & \n",
    "                               (df['date_actioned'] >= start_time) &\n",
    "                               (df['date_actioned'] <= end_time), ['user_id']]\n",
    "    \n",
    "    return list(set(users_selected['user_id'].tolist()))\n"
   ]
  },
  {
   "cell_type": "code",
   "execution_count": 3,
   "metadata": {},
   "outputs": [
    {
     "name": "stdout",
     "output_type": "stream",
     "text": [
      "[3]\n"
     ]
    }
   ],
   "source": [
    "# Applying the function to the example scenario\n",
    "\n",
    "action = 'start'\n",
    "start_time = 700\n",
    "end_time = 900\n",
    "\n",
    "users = getUsers(records, action, start_time, end_time)\n",
    "print(users)\n"
   ]
  },
  {
   "cell_type": "markdown",
   "metadata": {},
   "source": [
    "## Task 2\n",
    " \n",
    "Write a function that takes in a user_id and an array of all the database records, and reports a user’s total “unique” playback time in seconds.\n",
    "\n",
    "E.g. getPlaybackTime(1, records) will return 310\n",
    " "
   ]
  },
  {
   "cell_type": "code",
   "execution_count": 4,
   "metadata": {},
   "outputs": [],
   "source": [
    "''' \n",
    "The function that takes in user_id and the records, and the function \n",
    "output a user's total unique playback time in seconds\n",
    "'''\n",
    "\n",
    "def getPlaybackTime(user_id_selected, df):\n",
    "    # Selecting the records of a particular user\n",
    "    records_selected_df = df.loc[(df['user_id'] == user_id_selected), ['device','action','date_actioned']]\n",
    "    user_devices = records_selected_df['device'].unique()\n",
    "    device_times_array = []\n",
    "    for device in user_devices:\n",
    "        device_df = records_selected_df.loc[(df['device'] == device), ['device','action','date_actioned']]\n",
    "        min = device_df['date_actioned'].min()\n",
    "        max = device_df['date_actioned'].max()\n",
    "        if min != max: #Exclude when only one start or stop\n",
    "            device_times_array.append([min, max])\n",
    "    sorted_array = sorted(device_times_array, key=lambda x: x[0])\n",
    "    start = None\n",
    "    end = None\n",
    "    unique_playback_time = 0\n",
    "    for s, e in sorted_array:\n",
    "        \n",
    "        if not start or not end:\n",
    "            start = s\n",
    "            end = e\n",
    "        elif s <= end:\n",
    "            start = end\n",
    "            if e <= end:\n",
    "                end = end #produces a null in the difference calculation\n",
    "            else:\n",
    "                end = e\n",
    "        else:\n",
    "            start = s\n",
    "            end = e\n",
    "        unique_playback_time += end - start\n",
    "        \n",
    "    return unique_playback_time\n"
   ]
  },
  {
   "cell_type": "code",
   "execution_count": 5,
   "metadata": {},
   "outputs": [
    {
     "name": "stdout",
     "output_type": "stream",
     "text": [
      "User # 1 has a total of  310 (s)  unique playback time.\n"
     ]
    }
   ],
   "source": [
    "# Applying the function to the example scenario\n",
    "\n",
    "uid = 1\n",
    "\n",
    "playback_value = getPlaybackTime(uid, records)\n",
    "print('User #', uid, 'has a total of ', playback_value,'(s) ', 'unique playback time.')\n"
   ]
  },
  {
   "cell_type": "markdown",
   "metadata": {},
   "source": [
    "## Task 3\n",
    "\n",
    "Write inline comments for the functions where appropriate."
   ]
  },
  {
   "cell_type": "code",
   "execution_count": 6,
   "metadata": {},
   "outputs": [],
   "source": [
    "# Completed for Tasks 1, 2, 6"
   ]
  },
  {
   "cell_type": "markdown",
   "metadata": {},
   "source": [
    "## Task 4\n",
    "\n",
    "Write appropriate unit tests for your functions above"
   ]
  },
  {
   "cell_type": "code",
   "execution_count": 7,
   "metadata": {},
   "outputs": [
    {
     "name": "stderr",
     "output_type": "stream",
     "text": [
      "test_getUsers (__main__.Test_getUsers) ... ok\n",
      "\n",
      "----------------------------------------------------------------------\n",
      "Ran 1 test in 0.003s\n",
      "\n",
      "OK\n"
     ]
    },
    {
     "data": {
      "text/plain": [
       "<unittest.main.TestProgram at 0x7fa08d587450>"
      ]
     },
     "execution_count": 7,
     "metadata": {},
     "output_type": "execute_result"
    }
   ],
   "source": [
    "class Test_getUsers(unittest.TestCase):\n",
    "    \n",
    "    # Testing the outcome of the function for the given parameters\n",
    "    def test_getUsers(self):\n",
    "        self.assertEqual(getUsers(records, 'start', 700, 900), [3])  \n",
    "\n",
    "unittest.main(argv=[''], verbosity=2, exit=False)"
   ]
  },
  {
   "cell_type": "code",
   "execution_count": 8,
   "metadata": {},
   "outputs": [
    {
     "name": "stderr",
     "output_type": "stream",
     "text": [
      "test_getPlaybackTime (__main__.Test_getPlaybackTime) ... ok\n",
      "test_getUsers (__main__.Test_getUsers) ... ok\n",
      "\n",
      "----------------------------------------------------------------------\n",
      "Ran 2 tests in 0.009s\n",
      "\n",
      "OK\n"
     ]
    },
    {
     "data": {
      "text/plain": [
       "<unittest.main.TestProgram at 0x7fa08d587210>"
      ]
     },
     "execution_count": 8,
     "metadata": {},
     "output_type": "execute_result"
    }
   ],
   "source": [
    "class Test_getPlaybackTime(unittest.TestCase):\n",
    "    \n",
    "    # Testing the outcome of the function for the given parameters\n",
    "    def test_getPlaybackTime(self):\n",
    "        self.assertEqual(getPlaybackTime(1, records), 310)  \n",
    "\n",
    "unittest.main(argv=[''], verbosity=2, exit=False)"
   ]
  },
  {
   "cell_type": "markdown",
   "metadata": {},
   "source": [
    "## Task 5\n",
    "\n",
    "Identify any possible shortcomings or limitations of both your functions if any.\n",
    "\n",
    "#### Task's 1 Limitations\n",
    "1. No checks on the input values.\n",
    "\n",
    "#### Task's 2 Limitations\n",
    "1. The table contains records for one video.\n",
    "2. We only check for one user at a time.\n",
    "3. Each device is only started and stopped once at that period.\n",
    "4. Devices that are only started or stopped are excluded from the calculation. \n",
    "5. No check if such user_id exists."
   ]
  },
  {
   "cell_type": "markdown",
   "metadata": {},
   "source": [
    "## Task 6"
   ]
  },
  {
   "cell_type": "code",
   "execution_count": 9,
   "metadata": {},
   "outputs": [
    {
     "name": "stdout",
     "output_type": "stream",
     "text": [
      "[{'app_id': 1, 'features_available': [1, 2, 3]}, {'app_id': 2, 'features_available': [3, 4, 5, 7]}, {'app_id': 3, 'features_available': [3, 12]}]\n",
      "[{'user_id': 1, 'features_allowed': [1, 2, 5]}, {'user_id': 2, 'features_allowed': [1, 2, 3, 4]}, {'user_id': 3, 'features_allowed': [5]}]\n"
     ]
    }
   ],
   "source": [
    "# A user has access to a set of applications:\n",
    "user_apps = [{\"app_id\": 1}, \n",
    "             {\"app_id\": 2}, \n",
    "             {\"app_id\": 3}, \n",
    "             {\"app_id\": 126}]\n",
    "\n",
    "# Each application has a series of features available:\n",
    "app_features = [{\"app_id\": 1, \"features_available\": [1, 2, 3]}, \n",
    "                {\"app_id\": 2, \"features_available\": [3, 4, 5, 7]}, \n",
    "                {\"app_id\": 3, \"features_available\": [3, 12]}]\n",
    "\n",
    "# Each user has feature specific access:\n",
    "user_features = [{\"user_id\": 1, \"features_allowed\": [1, 2, 5]}, \n",
    "                 {\"user_id\": 2,\"features_allowed\": [1, 2, 3, 4]}, \n",
    "                 {\"user_id\": 3, \"features_allowed\": [5]}]\n",
    "\n",
    "print(app_features)\n",
    "print(user_features)\n"
   ]
  },
  {
   "cell_type": "markdown",
   "metadata": {},
   "source": [
    "Write a Python 3 function that takes in a user_id, the above three lists and returns a\n",
    "dictionary object that looks something like this:\n",
    "\n",
    "{\n",
    "\"user_id\": 1,\n",
    "\"application_permissions\": [\n",
    "{\n",
    "\"app_id\": 1,\n",
    "\"features_allowed\": [1, 2]\n",
    "},\n",
    "{\n",
    "\"app_id\": 2,\n",
    "\"features_allowed\": [5]\n",
    "},\n",
    "{\n",
    "\"app_id\": 3\n",
    "\"features_allowed\": []\n",
    "},\n",
    "...\n",
    "]\n",
    "}\n",
    "\n",
    "In other words, return a dictionary object which shows, for all allowed applications, the allowed\n",
    "features for a user."
   ]
  },
  {
   "cell_type": "code",
   "execution_count": 10,
   "metadata": {},
   "outputs": [],
   "source": [
    "''' \n",
    "The function is used to get the target arrays in two cases: when extracting the features allowed \n",
    "for the user of interest and getting the features available for an app\n",
    "'''\n",
    "\n",
    "def get_target_array(lookup_value, lookup_key, output_key, input_array):\n",
    "    for line in input_array:\n",
    "        if line[lookup_key] == lookup_value:\n",
    "            return line[output_key]\n",
    "    return []\n",
    " \n",
    "    \n",
    "''' \n",
    "The function that takes in user_id and and the three lists and returns a dictionary object \n",
    "which shows for all allowed applications, the allowed features for a user\n",
    "'''\n",
    "    \n",
    "def uid_to_features(user_id, user_apps, app_feats, user_feats):\n",
    "    out_dict = {\"user_id\": user_id}\n",
    "    # Obtaining the list of apps a user has\n",
    "    user_app_ids = [app[\"app_id\"] for app in user_apps]        \n",
    "    # Extracting the features allowed for the user of interest\n",
    "    user_features_allowed = get_target_array(user_id, \"user_id\", \"features_allowed\", user_feats) \n",
    "    \n",
    "    app_permissions = []    \n",
    "    for app_id in user_app_ids:\n",
    "        app_report = {\"app_id\": app_id, \"features_allowed\": []}\n",
    "        # Extracting the features available for an app\n",
    "        app_features = get_target_array(app_id, \"app_id\", \"features_available\", app_feats)\n",
    "        for app_feature in app_features:\n",
    "            if app_feature in user_features_allowed:\n",
    "                app_report[\"features_allowed\"].append(app_feature)\n",
    "        # Adding the complete app report for a particular app\n",
    "        app_permissions.append(app_report)\n",
    "                \n",
    "    out_dict[\"application_permissions\"] = app_permissions\n",
    "                \n",
    "    return out_dict\n"
   ]
  },
  {
   "cell_type": "code",
   "execution_count": 11,
   "metadata": {},
   "outputs": [
    {
     "data": {
      "text/plain": [
       "{'user_id': 1,\n",
       " 'application_permissions': [{'app_id': 1, 'features_allowed': [1, 2]},\n",
       "  {'app_id': 2, 'features_allowed': [5]},\n",
       "  {'app_id': 3, 'features_allowed': []},\n",
       "  {'app_id': 126, 'features_allowed': []}]}"
      ]
     },
     "execution_count": 11,
     "metadata": {},
     "output_type": "execute_result"
    }
   ],
   "source": [
    "# Applying the function to the example scenario\n",
    "\n",
    "uid = 1\n",
    "\n",
    "uid_to_features(uid, user_apps, app_features, user_features)\n"
   ]
  },
  {
   "cell_type": "markdown",
   "metadata": {},
   "source": [
    "## Task 7\n",
    "\n",
    "Write appropriate unit tests for your functions above"
   ]
  },
  {
   "cell_type": "code",
   "execution_count": 12,
   "metadata": {
    "scrolled": true
   },
   "outputs": [
    {
     "name": "stderr",
     "output_type": "stream",
     "text": [
      "test_getPlaybackTime (__main__.Test_getPlaybackTime) ... ok\n",
      "test_getUsers (__main__.Test_getUsers) ... ok\n",
      "test_uid_to_features (__main__.Test_uid_to_features) ... ok\n",
      "\n",
      "----------------------------------------------------------------------\n",
      "Ran 3 tests in 0.010s\n",
      "\n",
      "OK\n"
     ]
    },
    {
     "data": {
      "text/plain": [
       "<unittest.main.TestProgram at 0x7fa08d5b10d0>"
      ]
     },
     "execution_count": 12,
     "metadata": {},
     "output_type": "execute_result"
    }
   ],
   "source": [
    "class Test_uid_to_features(unittest.TestCase):\n",
    "    \n",
    "    # Testing the outcome of the function for the given parameters\n",
    "    def test_uid_to_features(self):\n",
    "        self.assertEqual(uid_to_features(uid, user_apps, app_features, user_features), {'user_id': 1,\n",
    " 'application_permissions': [{'app_id': 1, 'features_allowed': [1, 2]},\n",
    "  {'app_id': 2, 'features_allowed': [5]},\n",
    "  {'app_id': 3, 'features_allowed': []},\n",
    "  {'app_id': 126, 'features_allowed': []}]})  \n",
    "\n",
    "unittest.main(argv=[''], verbosity=2, exit=False)"
   ]
  },
  {
   "cell_type": "markdown",
   "metadata": {},
   "source": [
    "## Task 8\n",
    "\n",
    "Identify any possible shortcomings or limitations of both your functions if any.\n",
    "\n",
    "#### Task's 6 Limitations\n",
    "1. \"if line[lookup_key] == lookup_value:\",- the assumption is that there are no missing dictionary keys in the data.\n",
    "2. Doesn't scale well, in particular app_features where it loops through the each application that the user has."
   ]
  }
 ],
 "metadata": {
  "kernelspec": {
   "display_name": "Python 3",
   "language": "python",
   "name": "python3"
  },
  "language_info": {
   "codemirror_mode": {
    "name": "ipython",
    "version": 3
   },
   "file_extension": ".py",
   "mimetype": "text/x-python",
   "name": "python",
   "nbconvert_exporter": "python",
   "pygments_lexer": "ipython3",
   "version": "3.7.6"
  }
 },
 "nbformat": 4,
 "nbformat_minor": 4
}
